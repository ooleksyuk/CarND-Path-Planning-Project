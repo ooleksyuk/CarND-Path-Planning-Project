{
 "cells": [
  {
   "cell_type": "markdown",
   "metadata": {},
   "source": [
    "## Behavior Planning Pseudocode"
   ]
  },
  {
   "cell_type": "markdown",
   "metadata": {},
   "source": [
    "One way to implement a transition function is by generating rough trajectories for each accessible \"next state\" and then finding the best. To \"find the best\" we generally use cost functions. We can then figure out how costly each rough trajectory is and then select the state with the lowest cost trajectory.\n",
    "\n",
    "We'll discuss this in more detail later, but first read carefully through the pseudocode below to get a better sense for how a transition function might work."
   ]
  },
  {
   "cell_type": "markdown",
   "metadata": {},
   "source": [
    "```\n",
    "def transition_function(predictions, current_fsm_state, current_pose, cost_functions, weights):\n",
    "    # only consider states which can be reached from current FSM state.\n",
    "    possible_successor_states = successor_states(current_fsm_state)\n",
    "\n",
    "    # keep track of the total cost of each state.\n",
    "    costs = []\n",
    "    for state in possible_successor_states:\n",
    "        # generate a rough idea of what trajectory we would\n",
    "        # follow IF we chose this state.\n",
    "        trajectory_for_state = generate_trajectory(state, current_pose, predictions)\n",
    "\n",
    "        # calculate the \"cost\" associated with that trajectory.\n",
    "        cost_for_state = 0\n",
    "        for i in range(len(cost_functions)) :\n",
    "            # apply each cost function to the generated trajectory\n",
    "            cost_function = cost_functions[i]\n",
    "            cost_for_cost_function = cost_function(trajectory_for_state, predictions)\n",
    "\n",
    "            # multiply the cost by the associated weight\n",
    "            weight = weights[i]\n",
    "            cost_for_state += weight * cost_for_cost_function\n",
    "         costs.append({'state' : state, 'cost' : cost_for_state})\n",
    "\n",
    "    # Find the minimum cost state.\n",
    "    best_next_state = None\n",
    "    min_cost = 9999999\n",
    "    for i in range(len(possible_successor_states)):\n",
    "        state = possible_successor_states[i]\n",
    "        cost  = costs[i]\n",
    "        if cost < min_cost:\n",
    "            min_cost = cost\n",
    "            best_next_state = state \n",
    "\n",
    "    return best_next_state\n",
    "```"
   ]
  },
  {
   "cell_type": "markdown",
   "metadata": {},
   "source": [
    "Obviously we are glossing over some important details here. Namely: what are these cost functions and how do we create them? We'll talk about that next!"
   ]
  },
  {
   "cell_type": "code",
   "execution_count": null,
   "metadata": {},
   "outputs": [],
   "source": []
  }
 ],
 "metadata": {
  "kernelspec": {
   "display_name": "Python 2",
   "language": "python",
   "name": "python2"
  },
  "language_info": {
   "codemirror_mode": {
    "name": "ipython",
    "version": 2
   },
   "file_extension": ".py",
   "mimetype": "text/x-python",
   "name": "python",
   "nbconvert_exporter": "python",
   "pygments_lexer": "ipython2",
   "version": "2.7.12"
  }
 },
 "nbformat": 4,
 "nbformat_minor": 2
}
